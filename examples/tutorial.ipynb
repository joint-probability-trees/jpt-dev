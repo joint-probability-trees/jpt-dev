{
 "cells": [
  {
   "cell_type": "markdown",
   "source": [
    "The MNIST Handwritten Digit Recognition problem consists of 8x8 pictures and labels from 0-9 describing the number\n",
    "that is depicted on a picture.\n",
    "\n",
    "To get started we first have to load the dataset from sklearn."
   ],
   "metadata": {
    "collapsed": false
   }
  },
  {
   "cell_type": "code",
   "execution_count": 53,
   "outputs": [],
   "source": [
    "from sklearn.datasets import load_digits"
   ],
   "metadata": {
    "collapsed": false
   }
  },
  {
   "cell_type": "markdown",
   "source": [
    "In \"regular\" machine learning a conditional distribution P(Q|E) is approximated.\n",
    "However, as the name JPT suggests, we are interested in the joint distribution P(Q,E).\n",
    "Therefore, we have to load all the data (images and labels) in one dataframe."
   ],
   "metadata": {
    "collapsed": false
   }
  },
  {
   "cell_type": "code",
   "execution_count": 54,
   "outputs": [],
   "source": [
    "dataset = load_digits(as_frame=True)\n",
    "df = dataset.data\n",
    "df[\"digit\"] = dataset.target"
   ],
   "metadata": {
    "collapsed": false
   }
  },
  {
   "cell_type": "markdown",
   "source": [
    "Next we have to create variables that can be used in the JPT package.\n",
    "Firstly we have to import the necessary functionality. We will infer the variables from the dataframe."
   ],
   "metadata": {
    "collapsed": false
   }
  },
  {
   "cell_type": "code",
   "execution_count": 55,
   "outputs": [
    {
     "data": {
      "text/plain": "[pixel_0_0[PIXEL_0_0_TYPE(NUM)],\n pixel_0_1[PIXEL_0_1_TYPE(NUM)],\n pixel_0_2[PIXEL_0_2_TYPE(NUM)],\n pixel_0_3[PIXEL_0_3_TYPE(NUM)],\n pixel_0_4[PIXEL_0_4_TYPE(NUM)],\n pixel_0_5[PIXEL_0_5_TYPE(NUM)],\n pixel_0_6[PIXEL_0_6_TYPE(NUM)],\n pixel_0_7[PIXEL_0_7_TYPE(NUM)],\n pixel_1_0[PIXEL_1_0_TYPE(NUM)],\n pixel_1_1[PIXEL_1_1_TYPE(NUM)],\n pixel_1_2[PIXEL_1_2_TYPE(NUM)],\n pixel_1_3[PIXEL_1_3_TYPE(NUM)],\n pixel_1_4[PIXEL_1_4_TYPE(NUM)],\n pixel_1_5[PIXEL_1_5_TYPE(NUM)],\n pixel_1_6[PIXEL_1_6_TYPE(NUM)],\n pixel_1_7[PIXEL_1_7_TYPE(NUM)],\n pixel_2_0[PIXEL_2_0_TYPE(NUM)],\n pixel_2_1[PIXEL_2_1_TYPE(NUM)],\n pixel_2_2[PIXEL_2_2_TYPE(NUM)],\n pixel_2_3[PIXEL_2_3_TYPE(NUM)],\n pixel_2_4[PIXEL_2_4_TYPE(NUM)],\n pixel_2_5[PIXEL_2_5_TYPE(NUM)],\n pixel_2_6[PIXEL_2_6_TYPE(NUM)],\n pixel_2_7[PIXEL_2_7_TYPE(NUM)],\n pixel_3_0[PIXEL_3_0_TYPE(NUM)],\n pixel_3_1[PIXEL_3_1_TYPE(NUM)],\n pixel_3_2[PIXEL_3_2_TYPE(NUM)],\n pixel_3_3[PIXEL_3_3_TYPE(NUM)],\n pixel_3_4[PIXEL_3_4_TYPE(NUM)],\n pixel_3_5[PIXEL_3_5_TYPE(NUM)],\n pixel_3_6[PIXEL_3_6_TYPE(NUM)],\n pixel_3_7[PIXEL_3_7_TYPE(NUM)],\n pixel_4_0[PIXEL_4_0_TYPE(NUM)],\n pixel_4_1[PIXEL_4_1_TYPE(NUM)],\n pixel_4_2[PIXEL_4_2_TYPE(NUM)],\n pixel_4_3[PIXEL_4_3_TYPE(NUM)],\n pixel_4_4[PIXEL_4_4_TYPE(NUM)],\n pixel_4_5[PIXEL_4_5_TYPE(NUM)],\n pixel_4_6[PIXEL_4_6_TYPE(NUM)],\n pixel_4_7[PIXEL_4_7_TYPE(NUM)],\n pixel_5_0[PIXEL_5_0_TYPE(NUM)],\n pixel_5_1[PIXEL_5_1_TYPE(NUM)],\n pixel_5_2[PIXEL_5_2_TYPE(NUM)],\n pixel_5_3[PIXEL_5_3_TYPE(NUM)],\n pixel_5_4[PIXEL_5_4_TYPE(NUM)],\n pixel_5_5[PIXEL_5_5_TYPE(NUM)],\n pixel_5_6[PIXEL_5_6_TYPE(NUM)],\n pixel_5_7[PIXEL_5_7_TYPE(NUM)],\n pixel_6_0[PIXEL_6_0_TYPE(NUM)],\n pixel_6_1[PIXEL_6_1_TYPE(NUM)],\n pixel_6_2[PIXEL_6_2_TYPE(NUM)],\n pixel_6_3[PIXEL_6_3_TYPE(NUM)],\n pixel_6_4[PIXEL_6_4_TYPE(NUM)],\n pixel_6_5[PIXEL_6_5_TYPE(NUM)],\n pixel_6_6[PIXEL_6_6_TYPE(NUM)],\n pixel_6_7[PIXEL_6_7_TYPE(NUM)],\n pixel_7_0[PIXEL_7_0_TYPE(NUM)],\n pixel_7_1[PIXEL_7_1_TYPE(NUM)],\n pixel_7_2[PIXEL_7_2_TYPE(NUM)],\n pixel_7_3[PIXEL_7_3_TYPE(NUM)],\n pixel_7_4[PIXEL_7_4_TYPE(NUM)],\n pixel_7_5[PIXEL_7_5_TYPE(NUM)],\n pixel_7_6[PIXEL_7_6_TYPE(NUM)],\n pixel_7_7[PIXEL_7_7_TYPE(NUM)],\n digit[DIGIT_TYPE(NUM)]]"
     },
     "execution_count": 55,
     "metadata": {},
     "output_type": "execute_result"
    }
   ],
   "source": [
    "from jpt.variables import infer_from_dataframe\n",
    "variables = infer_from_dataframe(df)\n",
    "variables"
   ],
   "metadata": {
    "collapsed": false
   }
  },
  {
   "cell_type": "markdown",
   "source": [
    "The \"digit\" variable gets recognized as a numeric variable, which is technically the truth. However, the numeric\n",
    "representation of it is not useful for the representation problem. Therefore, we have to change it to a symbolic\n",
    "variable. To create a variable we need a type and a name."
   ],
   "metadata": {
    "collapsed": false
   }
  },
  {
   "cell_type": "code",
   "execution_count": 56,
   "outputs": [
    {
     "data": {
      "text/plain": "digit[digit(SYM)]"
     },
     "execution_count": 56,
     "metadata": {},
     "output_type": "execute_result"
    }
   ],
   "source": [
    "from jpt.variables import SymbolicVariable, SymbolicType\n",
    "\n",
    "digit_type = SymbolicType(\"digit\", [i for i in range(10)])\n",
    "digit = SymbolicVariable(\"digit\", digit_type)\n",
    "variables[-1] = digit\n",
    "variables[-1]"
   ],
   "metadata": {
    "collapsed": false
   }
  },
  {
   "cell_type": "markdown",
   "source": [
    "Next we have to create the model. We want the model to only acquire new parameters if they are relevant to 30 samples or more."
   ],
   "metadata": {
    "collapsed": false
   }
  },
  {
   "cell_type": "code",
   "execution_count": 57,
   "outputs": [
    {
     "data": {
      "text/plain": "JPT\nNone\n\nJPT stats: #innernodes = 0, #leaves = 0 (0 total)"
     },
     "execution_count": 57,
     "metadata": {},
     "output_type": "execute_result"
    }
   ],
   "source": [
    "import jpt.trees\n",
    "model = jpt.trees.JPT(variables, min_samples_leaf=100)\n",
    "model"
   ],
   "metadata": {
    "collapsed": false
   }
  },
  {
   "cell_type": "markdown",
   "source": [
    "To finish the knowledge acquisition part we have to fit the model. This is done sklearn style."
   ],
   "metadata": {
    "collapsed": false
   }
  },
  {
   "cell_type": "code",
   "execution_count": 58,
   "outputs": [
    {
     "name": "stderr",
     "output_type": "stream",
     "text": [
      "2022-11-14 13:09:55 -   INFO   - Preprocessing data...\n",
      "2022-11-14 13:09:55 -   INFO   - Data transformation... 1797 x 65\n",
      "2022-11-14 13:09:55 -   INFO   - Learning prior distributions...\n",
      "2022-11-14 13:09:55 -   INFO   - Prior distributions learnt in 0:00:00.017097.\n",
      "2022-11-14 13:09:55 -   INFO   - Started learning of 1797 x 65 at 2022-11-14 13:09:55.238377 requiring at least 100 samples per leaf\n",
      "2022-11-14 13:09:55 -   INFO   - Learning is generative. \n",
      "2022-11-14 13:09:55 -   INFO   - Learning took 0:00:00.359021\n"
     ]
    },
    {
     "data": {
      "text/plain": "JPT\n<DecisionNode #0 pixel_5_3 = []-∞,2.5[; [2.5,∞[]; parent-#: None; #children: 2>\n    <DecisionNode #1 pixel_3_4 = []-∞,2.5[; [2.5,∞[]; parent-#: 0; #children: 2>\n        <Leaf #3; parent: <DecisionNode #1>>\n        <DecisionNode #4 digit = [3; ¬3]; parent-#: 1; #children: 2>\n            <Leaf #7; parent: <DecisionNode #4>>\n            <DecisionNode #8 digit = [9; ¬9]; parent-#: 4; #children: 2>\n                <Leaf #13; parent: <DecisionNode #8>>\n                <DecisionNode #14 pixel_0_2 = []-∞,6.5[; [6.5,∞[]; parent-#: 8; #children: 2>\n                    <Leaf #21; parent: <DecisionNode #14>>\n                    <Leaf #22; parent: <DecisionNode #14>>\n    <DecisionNode #2 pixel_6_6 = []-∞,1.5[; [1.5,∞[]; parent-#: 0; #children: 2>\n        <DecisionNode #5 pixel_0_2 = []-∞,0.5[; [0.5,∞[]; parent-#: 2; #children: 2>\n            <DecisionNode #9 pixel_3_4 = []-∞,9.5[; [9.5,∞[]; parent-#: 5; #children: 2>\n                <Leaf #15; parent: <DecisionNode #9>>\n                <Leaf #16; parent: <DecisionNode #9>>\n            <DecisionNode #10 digit = [7; ¬7]; parent-#: 5; #children: 2>\n                <Leaf #17; parent: <DecisionNode #10>>\n                <DecisionNode #18 pixel_2_4 = []-∞,3.5[; [3.5,∞[]; parent-#: 10; #children: 2>\n                    <Leaf #23; parent: <DecisionNode #18>>\n                    <Leaf #24; parent: <DecisionNode #18>>\n        <DecisionNode #6 pixel_4_2 = []-∞,9.5[; [9.5,∞[]; parent-#: 2; #children: 2>\n            <DecisionNode #11 pixel_1_5 = []-∞,6.5[; [6.5,∞[]; parent-#: 6; #children: 2>\n                <Leaf #19; parent: <DecisionNode #11>>\n                <Leaf #20; parent: <DecisionNode #11>>\n            <Leaf #12; parent: <DecisionNode #6>>\n\nJPT stats: #innernodes = 12, #leaves = 13 (25 total)"
     },
     "execution_count": 58,
     "metadata": {},
     "output_type": "execute_result"
    }
   ],
   "source": [
    "model.fit(df.to_numpy())"
   ],
   "metadata": {
    "collapsed": false
   }
  },
  {
   "cell_type": "markdown",
   "source": [],
   "metadata": {
    "collapsed": false
   }
  },
  {
   "cell_type": "code",
   "execution_count": 59,
   "outputs": [
    {
     "name": "stdout",
     "output_type": "stream",
     "text": [
      "(1770,)\n"
     ]
    }
   ],
   "source": [],
   "metadata": {
    "collapsed": false
   }
  },
  {
   "cell_type": "code",
   "execution_count": 59,
   "outputs": [],
   "source": [],
   "metadata": {
    "collapsed": false
   }
  }
 ],
 "metadata": {
  "kernelspec": {
   "display_name": "Python 3",
   "language": "python",
   "name": "python3"
  },
  "language_info": {
   "codemirror_mode": {
    "name": "ipython",
    "version": 2
   },
   "file_extension": ".py",
   "mimetype": "text/x-python",
   "name": "python",
   "nbconvert_exporter": "python",
   "pygments_lexer": "ipython2",
   "version": "2.7.6"
  }
 },
 "nbformat": 4,
 "nbformat_minor": 0
}
