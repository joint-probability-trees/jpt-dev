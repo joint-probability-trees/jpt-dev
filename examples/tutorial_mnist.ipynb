{
 "cells": [
  {
   "cell_type": "markdown",
   "source": [
    "# MNIST Handwritten Digit Recognition\n",
    "\n",
    "The MNIST Handwritten Digit Recognition problem consists of 8x8 pictures and labels from 0-9 describing the number\n",
    "that is depicted on a picture.\n",
    "\n",
    "To get started we first have to load the dataset from sklearn."
   ],
   "metadata": {
    "collapsed": false
   }
  },
  {
   "cell_type": "code",
   "execution_count": 1,
   "outputs": [],
   "source": [
    "from sklearn.datasets import load_digits"
   ],
   "metadata": {
    "collapsed": false
   }
  },
  {
   "cell_type": "markdown",
   "source": [
    "In \"regular\" machine learning a conditional distribution P(Q|E) is approximated.\n",
    "However, as the name JPT suggests, we are interested in the joint distribution P(Q,E).\n",
    "Therefore, we have to load all the data (images and labels) in one dataframe."
   ],
   "metadata": {
    "collapsed": false
   }
  },
  {
   "cell_type": "code",
   "execution_count": 2,
   "outputs": [],
   "source": [
    "dataset = load_digits(as_frame=True)\n",
    "df = dataset.data\n",
    "df[\"digit\"] = dataset.target"
   ],
   "metadata": {
    "collapsed": false
   }
  },
  {
   "cell_type": "markdown",
   "source": [
    "Next we have to create variables that can be used in the JPT package.\n",
    "Firstly we have to import the necessary functionality. We will infer the variables from the dataframe without standardizing the numeric ones."
   ],
   "metadata": {
    "collapsed": false
   }
  },
  {
   "cell_type": "code",
   "execution_count": 3,
   "outputs": [
    {
     "data": {
      "text/plain": "[pixel_0_0[Numeric(NUM)],\n pixel_0_1[Numeric(NUM)],\n pixel_0_2[Numeric(NUM)],\n pixel_0_3[Numeric(NUM)],\n pixel_0_4[Numeric(NUM)],\n pixel_0_5[Numeric(NUM)],\n pixel_0_6[Numeric(NUM)],\n pixel_0_7[Numeric(NUM)],\n pixel_1_0[Numeric(NUM)],\n pixel_1_1[Numeric(NUM)],\n pixel_1_2[Numeric(NUM)],\n pixel_1_3[Numeric(NUM)],\n pixel_1_4[Numeric(NUM)],\n pixel_1_5[Numeric(NUM)],\n pixel_1_6[Numeric(NUM)],\n pixel_1_7[Numeric(NUM)],\n pixel_2_0[Numeric(NUM)],\n pixel_2_1[Numeric(NUM)],\n pixel_2_2[Numeric(NUM)],\n pixel_2_3[Numeric(NUM)],\n pixel_2_4[Numeric(NUM)],\n pixel_2_5[Numeric(NUM)],\n pixel_2_6[Numeric(NUM)],\n pixel_2_7[Numeric(NUM)],\n pixel_3_0[Numeric(NUM)],\n pixel_3_1[Numeric(NUM)],\n pixel_3_2[Numeric(NUM)],\n pixel_3_3[Numeric(NUM)],\n pixel_3_4[Numeric(NUM)],\n pixel_3_5[Numeric(NUM)],\n pixel_3_6[Numeric(NUM)],\n pixel_3_7[Numeric(NUM)],\n pixel_4_0[Numeric(NUM)],\n pixel_4_1[Numeric(NUM)],\n pixel_4_2[Numeric(NUM)],\n pixel_4_3[Numeric(NUM)],\n pixel_4_4[Numeric(NUM)],\n pixel_4_5[Numeric(NUM)],\n pixel_4_6[Numeric(NUM)],\n pixel_4_7[Numeric(NUM)],\n pixel_5_0[Numeric(NUM)],\n pixel_5_1[Numeric(NUM)],\n pixel_5_2[Numeric(NUM)],\n pixel_5_3[Numeric(NUM)],\n pixel_5_4[Numeric(NUM)],\n pixel_5_5[Numeric(NUM)],\n pixel_5_6[Numeric(NUM)],\n pixel_5_7[Numeric(NUM)],\n pixel_6_0[Numeric(NUM)],\n pixel_6_1[Numeric(NUM)],\n pixel_6_2[Numeric(NUM)],\n pixel_6_3[Numeric(NUM)],\n pixel_6_4[Numeric(NUM)],\n pixel_6_5[Numeric(NUM)],\n pixel_6_6[Numeric(NUM)],\n pixel_6_7[Numeric(NUM)],\n pixel_7_0[Numeric(NUM)],\n pixel_7_1[Numeric(NUM)],\n pixel_7_2[Numeric(NUM)],\n pixel_7_3[Numeric(NUM)],\n pixel_7_4[Numeric(NUM)],\n pixel_7_5[Numeric(NUM)],\n pixel_7_6[Numeric(NUM)],\n pixel_7_7[Numeric(NUM)],\n digit[Numeric(NUM)]]"
     },
     "execution_count": 3,
     "metadata": {},
     "output_type": "execute_result"
    }
   ],
   "source": [
    "from jpt.variables import infer_from_dataframe\n",
    "variables = infer_from_dataframe(df, scale_numeric_types=False)\n",
    "variables"
   ],
   "metadata": {
    "collapsed": false
   }
  },
  {
   "cell_type": "markdown",
   "source": [
    "The \"digit\" variable gets recognized as a numeric variable, which is technically the truth. However, the numeric\n",
    "representation of it is not useful for the representation problem. Therefore, we have to change it to a symbolic\n",
    "variable. To create a variable we need a type and a name."
   ],
   "metadata": {
    "collapsed": false
   }
  },
  {
   "cell_type": "code",
   "execution_count": 4,
   "outputs": [
    {
     "data": {
      "text/plain": "digit[digit(SYM)]"
     },
     "execution_count": 4,
     "metadata": {},
     "output_type": "execute_result"
    }
   ],
   "source": [
    "from jpt.variables import SymbolicVariable, SymbolicType\n",
    "\n",
    "digit_type = SymbolicType(\"digit\", [i for i in range(10)])\n",
    "digit = SymbolicVariable(\"digit\", digit_type)\n",
    "variables[-1] = digit\n",
    "variables[-1]"
   ],
   "metadata": {
    "collapsed": false
   }
  },
  {
   "cell_type": "markdown",
   "source": [
    "Next we have to create the model. We want the model to only acquire new parameters if they are relevant to 30 samples or more."
   ],
   "metadata": {
    "collapsed": false
   }
  },
  {
   "cell_type": "code",
   "execution_count": 5,
   "outputs": [
    {
     "data": {
      "text/plain": "JPT\nNone\n\nJPT stats: #innernodes = 0, #leaves = 0 (0 total)"
     },
     "execution_count": 5,
     "metadata": {},
     "output_type": "execute_result"
    }
   ],
   "source": [
    "import jpt.trees\n",
    "model = jpt.trees.JPT(variables, min_samples_leaf=20)\n",
    "model"
   ],
   "metadata": {
    "collapsed": false
   }
  },
  {
   "cell_type": "markdown",
   "source": [
    "To finish the knowledge acquisition part we have to fit the model. This is done sklearn style."
   ],
   "metadata": {
    "collapsed": false
   }
  },
  {
   "cell_type": "code",
   "execution_count": 6,
   "outputs": [
    {
     "data": {
      "text/plain": "JPT\n<DecisionNode #0 pixel_5_3 = []-∞,2.5[; [2.5,∞[]; parent-#: None; #children: 2>\n    <DecisionNode #1 pixel_3_4 = []-∞,2.5[; [2.5,∞[]; parent-#: 0; #children: 2>\n        <DecisionNode #3 digit = [0; ¬0]; parent-#: 1; #children: 2>\n            <DecisionNode #7 pixel_6_6 = []-∞,1.5[; [1.5,∞[]; parent-#: 3; #children: 2>\n                <DecisionNode #15 pixel_0_5 = []-∞,4.5[; [4.5,∞[]; parent-#: 7; #children: 2>\n                    <DecisionNode #29 pixel_2_3 = []-∞,4.5[; [4.5,∞[]; parent-#: 15; #children: 2>\n                        <Leaf #53; parent: <DecisionNode #29>>\n                        <Leaf #54; parent: <DecisionNode #29>>\n                    <Leaf #30; parent: <DecisionNode #15>>\n                <DecisionNode #16 pixel_1_4 = []-∞,13.5[; [13.5,∞[]; parent-#: 7; #children: 2>\n                    <DecisionNode #31 pixel_0_2 = []-∞,2.5[; [2.5,∞[]; parent-#: 16; #children: 2>\n                        <Leaf #55; parent: <DecisionNode #31>>\n                        <Leaf #56; parent: <DecisionNode #31>>\n                    <Leaf #32; parent: <DecisionNode #16>>\n            <Leaf #8; parent: <DecisionNode #3>>\n        <DecisionNode #4 digit = [3; ¬3]; parent-#: 1; #children: 2>\n            <DecisionNode #9 pixel_5_4 = []-∞,6.5[; [6.5,∞[]; parent-#: 4; #children: 2>\n                <DecisionNode #17 pixel_2_5 = []-∞,5.5[; [5.5,∞[]; parent-#: 9; #children: 2>\n                    <Leaf #33; parent: <DecisionNode #17>>\n                    <DecisionNode #34 pixel_0_2 = []-∞,5.5[; [5.5,∞[]; parent-#: 17; #children: 2>\n                        <Leaf #57; parent: <DecisionNode #34>>\n                        <DecisionNode #58 pixel_5_5 = []-∞,12.5[; [12.5,∞[]; parent-#: 34; #children: 2>\n                            <Leaf #89; parent: <DecisionNode #58>>\n                            <DecisionNode #90 pixel_4_3 = []-∞,4.5[; [4.5,∞[]; parent-#: 58; #children: 2>\n                                <Leaf #127; parent: <DecisionNode #90>>\n                                <Leaf #128; parent: <DecisionNode #90>>\n                <Leaf #18; parent: <DecisionNode #9>>\n            <DecisionNode #10 digit = [9; ¬9]; parent-#: 4; #children: 2>\n                <DecisionNode #19 pixel_0_6 = []-∞,4.5[; [4.5,∞[]; parent-#: 10; #children: 2>\n                    <DecisionNode #35 pixel_6_6 = []-∞,8.5[; [8.5,∞[]; parent-#: 19; #children: 2>\n                        <DecisionNode #59 pixel_4_2 = []-∞,0.5[; [0.5,∞[]; parent-#: 35; #children: 2>\n                            <DecisionNode #91 pixel_5_5 = []-∞,12.5[; [12.5,∞[]; parent-#: 59; #children: 2>\n                                <Leaf #129; parent: <DecisionNode #91>>\n                                <Leaf #130; parent: <DecisionNode #91>>\n                            <DecisionNode #92 pixel_1_4 = []-∞,10.5[; [10.5,∞[]; parent-#: 59; #children: 2>\n                                <Leaf #131; parent: <DecisionNode #92>>\n                                <Leaf #132; parent: <DecisionNode #92>>\n                        <DecisionNode #60 pixel_4_3 = []-∞,3.5[; [3.5,∞[]; parent-#: 35; #children: 2>\n                            <Leaf #93; parent: <DecisionNode #60>>\n                            <Leaf #94; parent: <DecisionNode #60>>\n                    <Leaf #36; parent: <DecisionNode #19>>\n                <DecisionNode #20 digit = [5; ¬5]; parent-#: 10; #children: 2>\n                    <DecisionNode #37 pixel_5_4 = []-∞,4.5[; [4.5,∞[]; parent-#: 20; #children: 2>\n                        <DecisionNode #61 pixel_4_3 = []-∞,6.5[; [6.5,∞[]; parent-#: 37; #children: 2>\n                            <DecisionNode #95 pixel_7_5 = []-∞,4.5[; [4.5,∞[]; parent-#: 61; #children: 2>\n                                <Leaf #133; parent: <DecisionNode #95>>\n                                <Leaf #134; parent: <DecisionNode #95>>\n                            <Leaf #96; parent: <DecisionNode #61>>\n                        <DecisionNode #62 pixel_3_5 = []-∞,1.5[; [1.5,∞[]; parent-#: 37; #children: 2>\n                            <Leaf #97; parent: <DecisionNode #62>>\n                            <Leaf #98; parent: <DecisionNode #62>>\n                    <DecisionNode #38 pixel_6_2 = []-∞,0.5[; [0.5,∞[]; parent-#: 20; #children: 2>\n                        <DecisionNode #63 pixel_7_5 = []-∞,12.5[; [12.5,∞[]; parent-#: 38; #children: 2>\n                            <Leaf #99; parent: <DecisionNode #63>>\n                            <Leaf #100; parent: <DecisionNode #63>>\n                        <DecisionNode #64 pixel_7_6 = []-∞,3.5[; [3.5,∞[]; parent-#: 38; #children: 2>\n                            <Leaf #101; parent: <DecisionNode #64>>\n                            <Leaf #102; parent: <DecisionNode #64>>\n    <DecisionNode #2 pixel_6_6 = []-∞,1.5[; [1.5,∞[]; parent-#: 0; #children: 2>\n        <DecisionNode #5 pixel_0_2 = []-∞,0.5[; [0.5,∞[]; parent-#: 2; #children: 2>\n            <DecisionNode #11 digit = [4; ¬4]; parent-#: 5; #children: 2>\n                <DecisionNode #21 pixel_1_2 = []-∞,1.5[; [1.5,∞[]; parent-#: 11; #children: 2>\n                    <DecisionNode #39 pixel_3_4 = []-∞,6.5[; [6.5,∞[]; parent-#: 21; #children: 2>\n                        <DecisionNode #65 pixel_6_3 = []-∞,3.5[; [3.5,∞[]; parent-#: 39; #children: 2>\n                            <Leaf #103; parent: <DecisionNode #65>>\n                            <Leaf #104; parent: <DecisionNode #65>>\n                        <Leaf #66; parent: <DecisionNode #39>>\n                    <DecisionNode #40 pixel_5_1 = []-∞,5.5[; [5.5,∞[]; parent-#: 21; #children: 2>\n                        <Leaf #67; parent: <DecisionNode #40>>\n                        <Leaf #68; parent: <DecisionNode #40>>\n                <DecisionNode #22 pixel_3_5 = []-∞,7.5[; [7.5,∞[]; parent-#: 11; #children: 2>\n                    <DecisionNode #41 pixel_0_5 = []-∞,3.5[; [3.5,∞[]; parent-#: 22; #children: 2>\n                        <Leaf #69; parent: <DecisionNode #41>>\n                        <Leaf #70; parent: <DecisionNode #41>>\n                    <Leaf #42; parent: <DecisionNode #22>>\n            <DecisionNode #12 digit = [7; ¬7]; parent-#: 5; #children: 2>\n                <DecisionNode #23 pixel_2_4 = []-∞,6.5[; [6.5,∞[]; parent-#: 12; #children: 2>\n                    <DecisionNode #43 pixel_2_3 = []-∞,2.5[; [2.5,∞[]; parent-#: 23; #children: 2>\n                        <DecisionNode #71 pixel_3_3 = []-∞,4.5[; [4.5,∞[]; parent-#: 43; #children: 2>\n                            <Leaf #105; parent: <DecisionNode #71>>\n                            <Leaf #106; parent: <DecisionNode #71>>\n                        <Leaf #72; parent: <DecisionNode #43>>\n                    <DecisionNode #44 pixel_3_6 = []-∞,5.5[; [5.5,∞[]; parent-#: 23; #children: 2>\n                        <DecisionNode #73 pixel_7_2 = []-∞,9.5[; [9.5,∞[]; parent-#: 44; #children: 2>\n                            <Leaf #107; parent: <DecisionNode #73>>\n                            <Leaf #108; parent: <DecisionNode #73>>\n                        <DecisionNode #74 pixel_0_5 = []-∞,8.5[; [8.5,∞[]; parent-#: 44; #children: 2>\n                            <Leaf #109; parent: <DecisionNode #74>>\n                            <Leaf #110; parent: <DecisionNode #74>>\n                <DecisionNode #24 pixel_2_4 = []-∞,3.5[; [3.5,∞[]; parent-#: 12; #children: 2>\n                    <DecisionNode #45 pixel_3_5 = []-∞,0.5[; [0.5,∞[]; parent-#: 24; #children: 2>\n                        <DecisionNode #75 pixel_4_2 = []-∞,10.5[; [10.5,∞[]; parent-#: 45; #children: 2>\n                            <Leaf #111; parent: <DecisionNode #75>>\n                            <Leaf #112; parent: <DecisionNode #75>>\n                        <DecisionNode #76 pixel_1_5 = []-∞,7.5[; [7.5,∞[]; parent-#: 45; #children: 2>\n                            <Leaf #113; parent: <DecisionNode #76>>\n                            <Leaf #114; parent: <DecisionNode #76>>\n                    <DecisionNode #46 digit = [1; ¬1]; parent-#: 24; #children: 2>\n                        <DecisionNode #77 pixel_4_2 = []-∞,6.5[; [6.5,∞[]; parent-#: 46; #children: 2>\n                            <Leaf #115; parent: <DecisionNode #77>>\n                            <DecisionNode #116 pixel_3_5 = []-∞,3.5[; [3.5,∞[]; parent-#: 77; #children: 2>\n                                <Leaf #135; parent: <DecisionNode #116>>\n                                <Leaf #136; parent: <DecisionNode #116>>\n                        <DecisionNode #78 digit = [8; ¬8]; parent-#: 46; #children: 2>\n                            <DecisionNode #117 pixel_3_2 = []-∞,7.5[; [7.5,∞[]; parent-#: 78; #children: 2>\n                                <Leaf #137; parent: <DecisionNode #117>>\n                                <Leaf #138; parent: <DecisionNode #117>>\n                            <DecisionNode #118 pixel_3_2 = []-∞,9.0[; [9.0,∞[]; parent-#: 78; #children: 2>\n                                <Leaf #139; parent: <DecisionNode #118>>\n                                <Leaf #140; parent: <DecisionNode #118>>\n        <DecisionNode #6 pixel_4_2 = []-∞,9.5[; [9.5,∞[]; parent-#: 2; #children: 2>\n            <DecisionNode #13 digit = [2; ¬2]; parent-#: 6; #children: 2>\n                <DecisionNode #25 pixel_4_3 = []-∞,7.5[; [7.5,∞[]; parent-#: 13; #children: 2>\n                    <DecisionNode #47 pixel_1_5 = []-∞,6.5[; [6.5,∞[]; parent-#: 25; #children: 2>\n                        <Leaf #79; parent: <DecisionNode #47>>\n                        <Leaf #80; parent: <DecisionNode #47>>\n                    <DecisionNode #48 pixel_1_5 = []-∞,2.5[; [2.5,∞[]; parent-#: 25; #children: 2>\n                        <DecisionNode #81 pixel_4_4 = []-∞,7.5[; [7.5,∞[]; parent-#: 48; #children: 2>\n                            <Leaf #119; parent: <DecisionNode #81>>\n                            <Leaf #120; parent: <DecisionNode #81>>\n                        <DecisionNode #82 pixel_7_5 = []-∞,12.5[; [12.5,∞[]; parent-#: 48; #children: 2>\n                            <Leaf #121; parent: <DecisionNode #82>>\n                            <Leaf #122; parent: <DecisionNode #82>>\n                <DecisionNode #26 pixel_2_5 = []-∞,3.5[; [3.5,∞[]; parent-#: 13; #children: 2>\n                    <Leaf #49; parent: <DecisionNode #26>>\n                    <DecisionNode #50 pixel_5_2 = []-∞,3.0[; [3.0,∞[]; parent-#: 26; #children: 2>\n                        <Leaf #83; parent: <DecisionNode #50>>\n                        <Leaf #84; parent: <DecisionNode #50>>\n            <DecisionNode #14 digit = [6; ¬6]; parent-#: 6; #children: 2>\n                <DecisionNode #27 pixel_1_4 = []-∞,5.5[; [5.5,∞[]; parent-#: 14; #children: 2>\n                    <DecisionNode #51 pixel_5_4 = []-∞,7.0[; [7.0,∞[]; parent-#: 27; #children: 2>\n                        <DecisionNode #85 pixel_2_3 = []-∞,5.5[; [5.5,∞[]; parent-#: 51; #children: 2>\n                            <Leaf #123; parent: <DecisionNode #85>>\n                            <Leaf #124; parent: <DecisionNode #85>>\n                        <Leaf #86; parent: <DecisionNode #51>>\n                    <DecisionNode #52 pixel_5_4 = []-∞,7.5[; [7.5,∞[]; parent-#: 27; #children: 2>\n                        <DecisionNode #87 pixel_6_5 = []-∞,11.5[; [11.5,∞[]; parent-#: 52; #children: 2>\n                            <Leaf #125; parent: <DecisionNode #87>>\n                            <Leaf #126; parent: <DecisionNode #87>>\n                        <Leaf #88; parent: <DecisionNode #52>>\n                <Leaf #28; parent: <DecisionNode #14>>\n\nJPT stats: #innernodes = 70, #leaves = 71 (141 total)"
     },
     "execution_count": 6,
     "metadata": {},
     "output_type": "execute_result"
    }
   ],
   "source": [
    "model.fit(df)"
   ],
   "metadata": {
    "collapsed": false
   }
  },
  {
   "cell_type": "markdown",
   "source": [
    "The easiest way to understand a JPT is through plotting. JPTs get plotted with matplotlib and svgs. Due to their possible enormous size it is advised to open the result svg file with inkscape."
   ],
   "metadata": {
    "collapsed": false
   }
  },
  {
   "cell_type": "code",
   "execution_count": 7,
   "outputs": [],
   "source": [
    "model.plot(directory=\"/tmp/mnist\")"
   ],
   "metadata": {
    "collapsed": false
   }
  },
  {
   "cell_type": "markdown",
   "source": [
    "Next we want to see what a 3 most likely looks like. Therefore, we have to use the MPE inference method. In general inference is done through variable maps."
   ],
   "metadata": {
    "collapsed": false
   }
  },
  {
   "cell_type": "code",
   "execution_count": 8,
   "outputs": [
    {
     "name": "stdout",
     "output_type": "stream",
     "text": [
      "odict_keys([0, 1, 2, 3, 4, 5, 6, 7, 8, 9])\n",
      "odict_keys([0, 1, 2, 3, 4, 5, 6, 7, 8, 9])\n",
      "odict_keys([0, 1, 2, 3, 4, 5, 6, 7, 8, 9])\n",
      "odict_keys([0, 1, 2, 3, 4, 5, 6, 7, 8, 9])\n",
      "odict_keys([0, 1, 2, 3, 4, 5, 6, 7, 8, 9])\n",
      "odict_keys([0, 1, 2, 3, 4, 5, 6, 7, 8, 9])\n",
      "odict_keys([0, 1, 2, 3, 4, 5, 6, 7, 8, 9])\n",
      "odict_keys([0, 1, 2, 3, 4, 5, 6, 7, 8, 9])\n",
      "odict_keys([0, 1, 2, 3, 4, 5, 6, 7, 8, 9])\n",
      "odict_keys([0, 1, 2, 3, 4, 5, 6, 7, 8, 9])\n",
      "odict_keys([0, 1, 2, 3, 4, 5, 6, 7, 8, 9])\n"
     ]
    },
    {
     "data": {
      "text/plain": "[<jpt.trees.MPEResult at 0x7fb582d49d90>]"
     },
     "execution_count": 8,
     "metadata": {},
     "output_type": "execute_result"
    }
   ],
   "source": [
    "import jpt.variables\n",
    "evidence = jpt.variables.VariableMap()\n",
    "evidence[model.varnames[\"digit\"]] = {3}\n",
    "\n",
    "mpe = model.mpe(evidence)\n",
    "mpe"
   ],
   "metadata": {
    "collapsed": false
   }
  },
  {
   "cell_type": "markdown",
   "source": [
    "The jpt.trees.JPT.mpe method returns a list of explanations that are all most likely. The list contains jpt.trees.JPT.MPEResult. We will have a look at every maximum. Since we only have one explanation that is\n",
    "most likely we only need to look inside the maxima in that explanation. The maximum property of an MPEResult is a VariableMap that maps symbolic variables to sets and numeric variables to RealSets. This is based on the fact that there can be multiple maxima inside one leaf and therefore the user should be aware of it. Unlike distributions from the exponential families JPTs also return intervals where every value is most likely. Let's investigate and plot the result."
   ],
   "metadata": {
    "collapsed": false
   }
  },
  {
   "cell_type": "code",
   "execution_count": 10,
   "outputs": [
    {
     "data": {
      "text/plain": "<Figure size 432x288 with 1 Axes>",
      "image/png": "[encoded data removed]"
     },
     "metadata": {
      "needs_background": "light"
     },
     "output_type": "display_data"
    }
   ],
   "source": [
    "first_mpe = mpe[0]\n",
    "\n",
    "import numpy as np\n",
    "# create image\n",
    "img = np.zeros((8,8))\n",
    "\n",
    "for variable, explanation in first_mpe.maximum.items():\n",
    "\n",
    "    # filter out numeric variables\n",
    "    if variable.numeric:\n",
    "\n",
    "        # get position in image\n",
    "        i, j = int(variable.name[6]), int(variable.name[8])\n",
    "\n",
    "        # get first interval in maximum\n",
    "        interval = explanation.intervals[0]\n",
    "\n",
    "        # set pixel value to center of that interval\n",
    "        img[i,j] = (interval.lower + interval.upper) / 2\n",
    "\n",
    "import matplotlib.pyplot as plt\n",
    "plt.imshow(img, cmap='Greys')\n",
    "plt.show()"
   ],
   "metadata": {
    "collapsed": false
   }
  },
  {
   "cell_type": "markdown",
   "source": [
    "As we can see it indeed looks like a 3."
   ],
   "metadata": {
    "collapsed": false
   }
  }
 ],
 "metadata": {
  "kernelspec": {
   "display_name": "Python 3",
   "language": "python",
   "name": "python3"
  },
  "language_info": {
   "codemirror_mode": {
    "name": "ipython",
    "version": 2
   },
   "file_extension": ".py",
   "mimetype": "text/x-python",
   "name": "python",
   "nbconvert_exporter": "python",
   "pygments_lexer": "ipython2",
   "version": "2.7.6"
  }
 },
 "nbformat": 4,
 "nbformat_minor": 0
}
