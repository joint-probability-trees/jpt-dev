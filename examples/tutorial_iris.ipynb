{
 "cells": [
  {
   "cell_type": "markdown",
   "source": [
    "# IRIS\n",
    "\n",
    "In this tutorial we will analyze the likelihood of a JPT fit on the IRIS dataset.\n",
    "We will investigate the hyperparameters and their effects on parameter count and quality of JPTs.\n",
    "Similar to the MNIST example we first have to join feature and targets."
   ],
   "metadata": {
    "collapsed": false
   }
  },
  {
   "cell_type": "code",
   "execution_count": 1,
   "metadata": {
    "collapsed": true
   },
   "outputs": [],
   "source": [
    "import sklearn.datasets\n",
    "import pandas as pd\n",
    "\n",
    "dataset = sklearn.datasets.load_iris()\n",
    "df = pd.DataFrame(columns=dataset.feature_names, data=dataset.data)\n",
    "\n",
    "target = dataset.target.astype(object)\n",
    "for idx, target_name in enumerate(dataset.target_names):\n",
    "    target[target == idx] = target_name\n",
    "\n",
    "df[\"plant\"] = target\n"
   ]
  },
  {
   "cell_type": "markdown",
   "source": [
    "Next we define the variables and model."
   ],
   "metadata": {
    "collapsed": false
   }
  },
  {
   "cell_type": "code",
   "execution_count": 2,
   "outputs": [
    {
     "data": {
      "text/plain": "JPT\n<DecisionNode #0 petal width (cm) = []-∞,0.7999999999999999[; [0.7999999999999999,∞[]; parent-#: None; #children: 2>\n    <Leaf #1; parent: <DecisionNode #0>>\n    <DecisionNode #2 petal width (cm) = []-∞,1.75[; [1.75,∞[]; parent-#: 0; #children: 2>\n        <Leaf #3; parent: <DecisionNode #2>>\n        <Leaf #4; parent: <DecisionNode #2>>\n\nJPT stats: #innernodes = 2, #leaves = 3 (5 total)"
     },
     "execution_count": 2,
     "metadata": {},
     "output_type": "execute_result"
    }
   ],
   "source": [
    "import jpt.variables\n",
    "import jpt.trees\n",
    "\n",
    "variables = jpt.variables.infer_from_dataframe(df)\n",
    "\n",
    "model = jpt.trees.JPT(variables, min_samples_leaf=30)\n",
    "\n",
    "model.fit(df)"
   ],
   "metadata": {
    "collapsed": false
   }
  },
  {
   "cell_type": "markdown",
   "source": [
    "Let's have a look at the log likelihood."
   ],
   "metadata": {
    "collapsed": false
   }
  },
  {
   "cell_type": "code",
   "execution_count": 3,
   "outputs": [
    {
     "data": {
      "text/plain": "-403.56607459295367"
     },
     "execution_count": 3,
     "metadata": {},
     "output_type": "execute_result"
    }
   ],
   "source": [
    "import numpy as np\n",
    "\n",
    "likelihood = model.likelihood(df)\n",
    "log_likelihood = np.sum(np.log(likelihood))\n",
    "log_likelihood"
   ],
   "metadata": {
    "collapsed": false
   }
  },
  {
   "cell_type": "markdown",
   "source": [
    "Seems okay. Let's get a feeling for the likelihood with respect to the minimal samples per leaf."
   ],
   "metadata": {
    "collapsed": false
   }
  },
  {
   "cell_type": "code",
   "execution_count": 4,
   "outputs": [
    {
     "data": {
      "text/plain": "[<matplotlib.lines.Line2D at 0x7f06adb11e80>]"
     },
     "execution_count": 4,
     "metadata": {},
     "output_type": "execute_result"
    },
    {
     "data": {
      "text/plain": "<Figure size 432x288 with 1 Axes>",
      "image/png": "[encoded data removed]"
     },
     "metadata": {
      "needs_background": "light"
     },
     "output_type": "display_data"
    }
   ],
   "source": [
    "import matplotlib.pyplot as plt\n",
    "\n",
    "log_likelihoods = np.zeros(50)\n",
    "number_of_parameters = np.zeros(50)\n",
    "\n",
    "for i in range(1,51):\n",
    "    model = jpt.trees.JPT(variables, min_samples_leaf=i)\n",
    "    model.fit(df)\n",
    "    likelihood = model.likelihood(df)\n",
    "    log_likelihoods[i-1] = np.sum(np.log(likelihood))\n",
    "    number_of_parameters[i-1] = model.number_of_parameters()\n",
    "\n",
    "plt.plot(range(1,51), log_likelihoods)\n",
    "plt.plot(range(1,51), number_of_parameters)"
   ],
   "metadata": {
    "collapsed": false
   }
  },
  {
   "cell_type": "markdown",
   "source": [
    "In this plot we can observe multiple things. First of all, the more parameters we have, the more likelihood we get. Second, fewer samples per leaf produces more parameters which is also intuitive.\n",
    "The spike that occurs when having few samples per leaf is explainable by the dirac delta. JPTs are able to use the dirac impulse as distribution when there is no uncertainty left in a leaf. The dirac impulse produces an infinite density. These densities are then scaled down, such that the likelihood remains measurable and comparable.\n",
    "We can try to scale down that scaling."
   ],
   "metadata": {
    "collapsed": false
   }
  },
  {
   "cell_type": "code",
   "execution_count": 8,
   "outputs": [
    {
     "data": {
      "text/plain": "[<matplotlib.lines.Line2D at 0x7f0684ff7310>]"
     },
     "execution_count": 8,
     "metadata": {},
     "output_type": "execute_result"
    },
    {
     "data": {
      "text/plain": "<Figure size 432x288 with 1 Axes>",
      "image/png": "[encoded data removed]"
     },
     "metadata": {
      "needs_background": "light"
     },
     "output_type": "display_data"
    }
   ],
   "source": [
    "import matplotlib.pyplot as plt\n",
    "\n",
    "log_likelihoods = np.zeros(50)\n",
    "number_of_parameters = np.zeros(50)\n",
    "\n",
    "for i in range(1,51):\n",
    "    model = jpt.trees.JPT(variables, min_samples_leaf=i)\n",
    "    model.fit(df)\n",
    "    likelihood = model.likelihood(df, dirac_scaling=1.)\n",
    "    log_likelihoods[i-1] = np.sum(np.log(likelihood))\n",
    "    number_of_parameters[i-1] = model.number_of_parameters()\n",
    "\n",
    "plt.plot(range(1,51), log_likelihoods)\n",
    "plt.plot(range(1,51), number_of_parameters)"
   ],
   "metadata": {
    "collapsed": false
   }
  },
  {
   "cell_type": "markdown",
   "source": [
    "With the dirac_scaling keyword we can get a feeling for how many dirac impulses are represented in our model. Let's experiment with the min_impurity improvement parameter."
   ],
   "metadata": {
    "collapsed": false
   }
  },
  {
   "cell_type": "code",
   "execution_count": 14,
   "outputs": [
    {
     "data": {
      "text/plain": "[<matplotlib.lines.Line2D at 0x7f06855199d0>]"
     },
     "execution_count": 14,
     "metadata": {},
     "output_type": "execute_result"
    },
    {
     "data": {
      "text/plain": "<Figure size 432x288 with 1 Axes>",
      "image/png": "[encoded data removed]"
     },
     "metadata": {
      "needs_background": "light"
     },
     "output_type": "display_data"
    }
   ],
   "source": [
    "import matplotlib.pyplot as plt\n",
    "\n",
    "log_likelihoods = np.zeros(50)\n",
    "number_of_parameters = np.zeros(50)\n",
    "\n",
    "for i in range(1,51):\n",
    "    model = jpt.trees.JPT(variables, min_impurity_improvement=i*0.1)\n",
    "    model.fit(df)\n",
    "    likelihood = model.likelihood(df, dirac_scaling=1.)\n",
    "    log_likelihoods[i-1] = np.sum(np.log(likelihood))\n",
    "    number_of_parameters[i-1] = model.number_of_parameters()\n",
    "\n",
    "plt.plot(range(1,51), log_likelihoods)\n",
    "plt.plot(range(1,51), number_of_parameters)"
   ],
   "metadata": {
    "collapsed": false
   }
  },
  {
   "cell_type": "markdown",
   "source": [
    "This time we constrained the tree to only add new parameters when they improve the information gain significantly by at least min_impurity_improvement. The relations between the parameter count and likelihood remain the same. These two hyperparameters are influencing the training process the most."
   ],
   "metadata": {
    "collapsed": false
   }
  }
 ],
 "metadata": {
  "kernelspec": {
   "display_name": "Python 3",
   "language": "python",
   "name": "python3"
  },
  "language_info": {
   "codemirror_mode": {
    "name": "ipython",
    "version": 2
   },
   "file_extension": ".py",
   "mimetype": "text/x-python",
   "name": "python",
   "nbconvert_exporter": "python",
   "pygments_lexer": "ipython2",
   "version": "2.7.6"
  }
 },
 "nbformat": 4,
 "nbformat_minor": 0
}
