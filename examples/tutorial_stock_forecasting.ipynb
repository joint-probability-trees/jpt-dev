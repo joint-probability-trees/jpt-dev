{
 "cells": [
  {
   "cell_type": "code",
   "execution_count": null,
   "id": "initial_id",
   "metadata": {
    "collapsed": true
   },
   "outputs": [],
   "source": [
    "import yfinance as yf\n",
    "\n",
    "ticker = yf.Ticker(\"AAPL\")\n",
    "data = ticker.history(period=\"3y\")\n",
    "data.drop(columns=[\"Volume\", \"Dividends\", \"Stock Splits\"], inplace=True)\n",
    "data = data.diff()[1:]\n",
    "data.head()"
   ]
  },
  {
   "cell_type": "code",
   "execution_count": null,
   "outputs": [],
   "source": [
    "import plotly.graph_objects as go\n",
    "fig = go.Figure(data=[go.Candlestick(x=data.index,\n",
    "                open=data['Open'],\n",
    "                high=data['High'],\n",
    "                low=data['Low'],\n",
    "                close=data['Close'])])\n",
    "fig.update_layout(title=f\"Historic price differences for {ticker.ticker}\",\n",
    "                  yaxis_title='Price (USD)')\n",
    "fig.show()"
   ],
   "metadata": {
    "collapsed": false
   },
   "id": "cdf032af0ff63581"
  },
  {
   "cell_type": "code",
   "execution_count": null,
   "outputs": [],
   "source": [],
   "metadata": {
    "collapsed": false
   },
   "id": "3cc4cc0789b18e1a"
  },
  {
   "cell_type": "code",
   "execution_count": null,
   "outputs": [],
   "source": [
    "import jpt.sequential_trees\n",
    "variables = jpt.infer_from_dataframe(data, precision=0.1)\n",
    "variables"
   ],
   "metadata": {
    "collapsed": false
   },
   "id": "eb7e62e9177e62da"
  },
  {
   "cell_type": "code",
   "execution_count": null,
   "outputs": [],
   "source": [
    "template_tree = jpt.trees.JPT(variables, min_samples_leaf=10)\n",
    "model = jpt.sequential_trees.SequentialJPT(template_tree)\n",
    "model.fit(sequences=[data])"
   ],
   "metadata": {
    "collapsed": false
   },
   "id": "aebfcc697440963b"
  },
  {
   "cell_type": "code",
   "execution_count": null,
   "outputs": [],
   "source": [],
   "metadata": {
    "collapsed": false
   },
   "id": "10a4d304b16919d0"
  },
  {
   "cell_type": "code",
   "execution_count": null,
   "outputs": [],
   "source": [
    "evidence = model.bind([{col: data[col][-1] for col in data.columns}] + [dict()] * 33)\n",
    "mpes, likelihood = model.mpe(evidence)\n",
    "\n",
    "opens = [mpe[\"Open\"].upper for mpe in mpes]\n",
    "highs = [mpe[\"High\"].upper for mpe in mpes]\n",
    "lows = [mpe[\"Low\"].lower for mpe in mpes]\n",
    "closes = [mpe[\"Close\"].upper for mpe in mpes]"
   ],
   "metadata": {
    "collapsed": false
   },
   "id": "1d723e63888a525e"
  },
  {
   "cell_type": "code",
   "execution_count": null,
   "outputs": [],
   "source": [
    "fig = go.Figure(data=[go.Candlestick(x=data.index,\n",
    "                open=opens,\n",
    "                high=highs,\n",
    "                low=lows,\n",
    "                close=closes)])\n",
    "fig.update_layout(title=f\"Predicted price differences for {ticker.ticker}\",\n",
    "                  yaxis_title='Price (USD)')\n",
    "fig.show()"
   ],
   "metadata": {
    "collapsed": false
   },
   "id": "d13c2eee0ad3215f"
  }
 ],
 "metadata": {
  "kernelspec": {
   "display_name": "Python 3",
   "language": "python",
   "name": "python3"
  },
  "language_info": {
   "codemirror_mode": {
    "name": "ipython",
    "version": 2
   },
   "file_extension": ".py",
   "mimetype": "text/x-python",
   "name": "python",
   "nbconvert_exporter": "python",
   "pygments_lexer": "ipython2",
   "version": "2.7.6"
  }
 },
 "nbformat": 4,
 "nbformat_minor": 5
}
