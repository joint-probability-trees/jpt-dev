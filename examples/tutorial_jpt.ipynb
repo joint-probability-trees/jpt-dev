{
 "cells": [
  {
   "cell_type": "markdown",
   "source": [
    "# Learning of Joint Probability Distributions\n",
    "In this section we show the basic usage of JPTs for learning joint distributions."
   ],
   "metadata": {
    "collapsed": false
   }
  },
  {
   "cell_type": "markdown",
   "source": [
    "# Reasoning about Joint Probability Distributions\n",
    "In this section we show the basic usage of JPTs for reasoning about joint distributions."
   ],
   "metadata": {
    "collapsed": false
   }
  }
 ],
 "metadata": {
  "kernelspec": {
   "display_name": "Python 3",
   "language": "python",
   "name": "python3"
  },
  "language_info": {
   "codemirror_mode": {
    "name": "ipython",
    "version": 2
   },
   "file_extension": ".py",
   "mimetype": "text/x-python",
   "name": "python",
   "nbconvert_exporter": "python",
   "pygments_lexer": "ipython2",
   "version": "2.7.6"
  }
 },
 "nbformat": 4,
 "nbformat_minor": 0
}
